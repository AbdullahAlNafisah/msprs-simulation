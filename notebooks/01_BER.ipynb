{
 "cells": [
  {
   "cell_type": "code",
   "execution_count": 5,
   "id": "047c8bcd",
   "metadata": {},
   "outputs": [
    {
     "name": "stdout",
     "output_type": "stream",
     "text": [
      "The autoreload extension is already loaded. To reload it, use:\n",
      "  %reload_ext autoreload\n"
     ]
    }
   ],
   "source": [
    "%load_ext autoreload\n",
    "%autoreload 2\n",
    "import sys, os\n",
    "PROJECT_ROOT = \"../python\"\n",
    "if PROJECT_ROOT not in sys.path:\n",
    "    sys.path.insert(0, PROJECT_ROOT)"
   ]
  },
  {
   "cell_type": "code",
   "execution_count": 7,
   "id": "1ecd1b99",
   "metadata": {},
   "outputs": [],
   "source": [
    "from numba import njit\n",
    "from channels import channelAWGN"
   ]
  },
  {
   "cell_type": "code",
   "execution_count": null,
   "id": "ebfe2d79",
   "metadata": {},
   "outputs": [],
   "source": [
    "c_channelAWGN = njit(channelAWGN)"
   ]
  },
  {
   "cell_type": "code",
   "execution_count": 12,
   "id": "087ddbee",
   "metadata": {},
   "outputs": [
    {
     "name": "stdout",
     "output_type": "stream",
     "text": [
      "3.23 μs ± 42.6 ns per loop (mean ± std. dev. of 7 runs, 100,000 loops each)\n"
     ]
    }
   ],
   "source": [
    "%timeit channelAWGN(1, 0, 1)"
   ]
  },
  {
   "cell_type": "code",
   "execution_count": 11,
   "id": "210eb1d4",
   "metadata": {},
   "outputs": [
    {
     "name": "stdout",
     "output_type": "stream",
     "text": [
      "797 ns ± 12.1 ns per loop (mean ± std. dev. of 7 runs, 1,000,000 loops each)\n"
     ]
    }
   ],
   "source": [
    "%timeit c_channelAWGN(1, 0, 1)"
   ]
  },
  {
   "cell_type": "code",
   "execution_count": null,
   "id": "6296bac0",
   "metadata": {},
   "outputs": [],
   "source": [
    "\n",
    "cfg  = SimConfig(modulator=BPSK(), channel=AWGN(), coder=None)  # or coder=YourCoder()\n",
    "sim  = SimulationRunner(cfg)\n",
    "bers = sim.run(num_info_bits=100_000, ebn0_db=[0, 2, 4, 6, 8], seed=42)\n",
    "bers  # -> [(0.0, ber0), (2.0, ber2), ...]\n"
   ]
  }
 ],
 "metadata": {
  "kernelspec": {
   "display_name": ".venv",
   "language": "python",
   "name": "python3"
  },
  "language_info": {
   "codemirror_mode": {
    "name": "ipython",
    "version": 3
   },
   "file_extension": ".py",
   "mimetype": "text/x-python",
   "name": "python",
   "nbconvert_exporter": "python",
   "pygments_lexer": "ipython3",
   "version": "3.12.3"
  }
 },
 "nbformat": 4,
 "nbformat_minor": 5
}
